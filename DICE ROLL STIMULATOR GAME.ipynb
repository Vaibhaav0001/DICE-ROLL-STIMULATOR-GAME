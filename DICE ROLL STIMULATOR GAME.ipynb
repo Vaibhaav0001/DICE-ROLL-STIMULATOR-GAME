{
 "cells": [
  {
   "cell_type": "code",
   "execution_count": 1,
   "metadata": {},
   "outputs": [
    {
     "name": "stdout",
     "output_type": "stream",
     "text": [
      "$$$ DICE ROLL STIMULATOR GAME $$$\n",
      "\n",
      "Rules:One who will have max number obtain will win this game\n",
      "\n",
      "How many players are there to play\n",
      "5\n",
      "player 1 enter 1 to roll the dice 1\n",
      "3\n",
      "player 2 enter 2 to roll the dice 2\n",
      "4\n",
      "player 3 enter 3 to roll the dice 2\n",
      "wrong input! XXXXXXX You are out.\n",
      "player 4 enter 4 to roll the dice 4\n",
      "6\n",
      "player 5 enter 5 to roll the dice 5\n",
      "5\n",
      "Conratulations!!! 4 you are Winner\n"
     ]
    }
   ],
   "source": [
    "import random\n",
    "print(\"$$$ DICE ROLL STIMULATOR GAME $$$\")\n",
    "print()\n",
    "print(\"Rules:One who will have max number obtain will win this game\")\n",
    "print()\n",
    "print(\"How many players are there to play\")\n",
    "n=int(input())\n",
    "temp={}\n",
    "for i in range(1,n+1):\n",
    "    print(\"player\",i,\"enter\",i,\"to roll the dice\",end=\" \")\n",
    "    j=int(input())\n",
    "    if j==i:\n",
    "        no=random.randint(1,6)\n",
    "        print(no)\n",
    "        temp[i]=no\n",
    "        \n",
    "    else:\n",
    "        print(\"wrong input!\",end=\" \"+\"XXXXXXX\"+\" \"+\"You are out.\")\n",
    "        print()\n",
    "largest=max(temp.values())\n",
    "for key,value in temp.items():\n",
    "    if value==largest:\n",
    "        print(\"Conratulations!!!\",key,\"you are Winner\")\n",
    "        \n",
    "    "
   ]
  },
  {
   "cell_type": "code",
   "execution_count": null,
   "metadata": {},
   "outputs": [],
   "source": []
  }
 ],
 "metadata": {
  "kernelspec": {
   "display_name": "Python 3",
   "language": "python",
   "name": "python3"
  },
  "language_info": {
   "codemirror_mode": {
    "name": "ipython",
    "version": 3
   },
   "file_extension": ".py",
   "mimetype": "text/x-python",
   "name": "python",
   "nbconvert_exporter": "python",
   "pygments_lexer": "ipython3",
   "version": "3.7.3"
  }
 },
 "nbformat": 4,
 "nbformat_minor": 2
}
